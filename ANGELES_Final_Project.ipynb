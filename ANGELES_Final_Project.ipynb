{
  "nbformat": 4,
  "nbformat_minor": 0,
  "metadata": {
    "colab": {
      "name": "ANGELES_Final_Project.ipynb",
      "provenance": [],
      "authorship_tag": "ABX9TyOYWkQORtxWSuzBjs5XWSrk",
      "include_colab_link": true
    },
    "kernelspec": {
      "name": "python3",
      "display_name": "Python 3"
    },
    "language_info": {
      "name": "python"
    }
  },
  "cells": [
    {
      "cell_type": "markdown",
      "metadata": {
        "id": "view-in-github",
        "colab_type": "text"
      },
      "source": [
        "<a href=\"https://colab.research.google.com/github/tca-codes/fraudulent-transactions/blob/main/ANGELES_Final_Project.ipynb\" target=\"_parent\"><img src=\"https://colab.research.google.com/assets/colab-badge.svg\" alt=\"Open In Colab\"/></a>"
      ]
    },
    {
      "cell_type": "markdown",
      "source": [
        "#Load the Dataset"
      ],
      "metadata": {
        "id": "49EK8tuAAryO"
      }
    },
    {
      "cell_type": "code",
      "execution_count": 1,
      "metadata": {
        "id": "13tmwf_S2847"
      },
      "outputs": [],
      "source": [
        "# Import needed Libraries\n",
        "import pandas as pd\n",
        "import numpy as np\n",
        "import matplotlib.pyplot as plt\n",
        "import seaborn as sns\n",
        "from seaborn import heatmap\n",
        "\n",
        "from sklearn.preprocessing import StandardScaler, OneHotEncoder\n",
        "from sklearn.model_selection import train_test_split\n",
        "from sklearn.compose import make_column_transformer, make_column_selector\n",
        "from sklearn.pipeline import make_pipeline\n",
        "from sklearn import metrics\n",
        "from sklearn.metrics import silhouette_score, classification_report, confusion_matrix, r2_score, mean_absolute_error, mean_squared_error\n",
        "from sklearn.cluster import KMeans\n",
        "from sklearn.decomposition import PCA\n",
        "\n",
        "from tensorflow.keras.layers import Dense, Dropout\n",
        "from tensorflow.keras.models import Sequential\n",
        "from tensorflow.keras.callbacks import EarlyStopping"
      ]
    },
    {
      "cell_type": "code",
      "source": [
        "filename = '/content/Fraud.csv'\n",
        "df = pd.read_csv(filename)\n",
        "df"
      ],
      "metadata": {
        "colab": {
          "base_uri": "https://localhost:8080/",
          "height": 424
        },
        "id": "iMZ1O6Tr3HpA",
        "outputId": "20963ff6-2aba-4054-99be-698c5de7e577"
      },
      "execution_count": 2,
      "outputs": [
        {
          "output_type": "execute_result",
          "data": {
            "text/plain": [
              "       step      type     amount     nameOrig  oldbalanceOrg  newbalanceOrig  \\\n",
              "0         1   PAYMENT    9839.64  C1231006815       170136.0       160296.36   \n",
              "1         1   PAYMENT    1864.28  C1666544295        21249.0        19384.72   \n",
              "2         1  TRANSFER     181.00  C1305486145          181.0            0.00   \n",
              "3         1  CASH_OUT     181.00   C840083671          181.0            0.00   \n",
              "4         1   PAYMENT   11668.14  C2048537720        41554.0        29885.86   \n",
              "...     ...       ...        ...          ...            ...             ...   \n",
              "83556    10   PAYMENT    7705.70  C1834114901        96490.0        88784.30   \n",
              "83557    10  CASH_OUT  319045.01  C1964329082        56471.0            0.00   \n",
              "83558    10   CASH_IN  249169.96  C1421944154         3481.0       252650.96   \n",
              "83559    10  CASH_OUT  244279.64   C722886752        29968.0            0.00   \n",
              "83560    10  CASH_OUT  145014.63    C60491101            NaN             NaN   \n",
              "\n",
              "          nameDest  oldbalanceDest  newbalanceDest  isFraud  isFlaggedFraud  \n",
              "0      M1979787155            0.00            0.00      0.0             0.0  \n",
              "1      M2044282225            0.00            0.00      0.0             0.0  \n",
              "2       C553264065            0.00            0.00      1.0             0.0  \n",
              "3        C38997010        21182.00            0.00      1.0             0.0  \n",
              "4      M1230701703            0.00            0.00      0.0             0.0  \n",
              "...            ...             ...             ...      ...             ...  \n",
              "83556  M1214836727            0.00            0.00      0.0             0.0  \n",
              "83557   C699133054            0.00       319045.01      0.0             0.0  \n",
              "83558   C790672270        38177.07            0.00      0.0             0.0  \n",
              "83559  C1492538502        25680.00       269959.64      0.0             0.0  \n",
              "83560          NaN             NaN             NaN      NaN             NaN  \n",
              "\n",
              "[83561 rows x 11 columns]"
            ],
            "text/html": [
              "\n",
              "  <div id=\"df-1cb6e9e8-3c86-421e-846f-ca3d87233b79\">\n",
              "    <div class=\"colab-df-container\">\n",
              "      <div>\n",
              "<style scoped>\n",
              "    .dataframe tbody tr th:only-of-type {\n",
              "        vertical-align: middle;\n",
              "    }\n",
              "\n",
              "    .dataframe tbody tr th {\n",
              "        vertical-align: top;\n",
              "    }\n",
              "\n",
              "    .dataframe thead th {\n",
              "        text-align: right;\n",
              "    }\n",
              "</style>\n",
              "<table border=\"1\" class=\"dataframe\">\n",
              "  <thead>\n",
              "    <tr style=\"text-align: right;\">\n",
              "      <th></th>\n",
              "      <th>step</th>\n",
              "      <th>type</th>\n",
              "      <th>amount</th>\n",
              "      <th>nameOrig</th>\n",
              "      <th>oldbalanceOrg</th>\n",
              "      <th>newbalanceOrig</th>\n",
              "      <th>nameDest</th>\n",
              "      <th>oldbalanceDest</th>\n",
              "      <th>newbalanceDest</th>\n",
              "      <th>isFraud</th>\n",
              "      <th>isFlaggedFraud</th>\n",
              "    </tr>\n",
              "  </thead>\n",
              "  <tbody>\n",
              "    <tr>\n",
              "      <th>0</th>\n",
              "      <td>1</td>\n",
              "      <td>PAYMENT</td>\n",
              "      <td>9839.64</td>\n",
              "      <td>C1231006815</td>\n",
              "      <td>170136.0</td>\n",
              "      <td>160296.36</td>\n",
              "      <td>M1979787155</td>\n",
              "      <td>0.00</td>\n",
              "      <td>0.00</td>\n",
              "      <td>0.0</td>\n",
              "      <td>0.0</td>\n",
              "    </tr>\n",
              "    <tr>\n",
              "      <th>1</th>\n",
              "      <td>1</td>\n",
              "      <td>PAYMENT</td>\n",
              "      <td>1864.28</td>\n",
              "      <td>C1666544295</td>\n",
              "      <td>21249.0</td>\n",
              "      <td>19384.72</td>\n",
              "      <td>M2044282225</td>\n",
              "      <td>0.00</td>\n",
              "      <td>0.00</td>\n",
              "      <td>0.0</td>\n",
              "      <td>0.0</td>\n",
              "    </tr>\n",
              "    <tr>\n",
              "      <th>2</th>\n",
              "      <td>1</td>\n",
              "      <td>TRANSFER</td>\n",
              "      <td>181.00</td>\n",
              "      <td>C1305486145</td>\n",
              "      <td>181.0</td>\n",
              "      <td>0.00</td>\n",
              "      <td>C553264065</td>\n",
              "      <td>0.00</td>\n",
              "      <td>0.00</td>\n",
              "      <td>1.0</td>\n",
              "      <td>0.0</td>\n",
              "    </tr>\n",
              "    <tr>\n",
              "      <th>3</th>\n",
              "      <td>1</td>\n",
              "      <td>CASH_OUT</td>\n",
              "      <td>181.00</td>\n",
              "      <td>C840083671</td>\n",
              "      <td>181.0</td>\n",
              "      <td>0.00</td>\n",
              "      <td>C38997010</td>\n",
              "      <td>21182.00</td>\n",
              "      <td>0.00</td>\n",
              "      <td>1.0</td>\n",
              "      <td>0.0</td>\n",
              "    </tr>\n",
              "    <tr>\n",
              "      <th>4</th>\n",
              "      <td>1</td>\n",
              "      <td>PAYMENT</td>\n",
              "      <td>11668.14</td>\n",
              "      <td>C2048537720</td>\n",
              "      <td>41554.0</td>\n",
              "      <td>29885.86</td>\n",
              "      <td>M1230701703</td>\n",
              "      <td>0.00</td>\n",
              "      <td>0.00</td>\n",
              "      <td>0.0</td>\n",
              "      <td>0.0</td>\n",
              "    </tr>\n",
              "    <tr>\n",
              "      <th>...</th>\n",
              "      <td>...</td>\n",
              "      <td>...</td>\n",
              "      <td>...</td>\n",
              "      <td>...</td>\n",
              "      <td>...</td>\n",
              "      <td>...</td>\n",
              "      <td>...</td>\n",
              "      <td>...</td>\n",
              "      <td>...</td>\n",
              "      <td>...</td>\n",
              "      <td>...</td>\n",
              "    </tr>\n",
              "    <tr>\n",
              "      <th>83556</th>\n",
              "      <td>10</td>\n",
              "      <td>PAYMENT</td>\n",
              "      <td>7705.70</td>\n",
              "      <td>C1834114901</td>\n",
              "      <td>96490.0</td>\n",
              "      <td>88784.30</td>\n",
              "      <td>M1214836727</td>\n",
              "      <td>0.00</td>\n",
              "      <td>0.00</td>\n",
              "      <td>0.0</td>\n",
              "      <td>0.0</td>\n",
              "    </tr>\n",
              "    <tr>\n",
              "      <th>83557</th>\n",
              "      <td>10</td>\n",
              "      <td>CASH_OUT</td>\n",
              "      <td>319045.01</td>\n",
              "      <td>C1964329082</td>\n",
              "      <td>56471.0</td>\n",
              "      <td>0.00</td>\n",
              "      <td>C699133054</td>\n",
              "      <td>0.00</td>\n",
              "      <td>319045.01</td>\n",
              "      <td>0.0</td>\n",
              "      <td>0.0</td>\n",
              "    </tr>\n",
              "    <tr>\n",
              "      <th>83558</th>\n",
              "      <td>10</td>\n",
              "      <td>CASH_IN</td>\n",
              "      <td>249169.96</td>\n",
              "      <td>C1421944154</td>\n",
              "      <td>3481.0</td>\n",
              "      <td>252650.96</td>\n",
              "      <td>C790672270</td>\n",
              "      <td>38177.07</td>\n",
              "      <td>0.00</td>\n",
              "      <td>0.0</td>\n",
              "      <td>0.0</td>\n",
              "    </tr>\n",
              "    <tr>\n",
              "      <th>83559</th>\n",
              "      <td>10</td>\n",
              "      <td>CASH_OUT</td>\n",
              "      <td>244279.64</td>\n",
              "      <td>C722886752</td>\n",
              "      <td>29968.0</td>\n",
              "      <td>0.00</td>\n",
              "      <td>C1492538502</td>\n",
              "      <td>25680.00</td>\n",
              "      <td>269959.64</td>\n",
              "      <td>0.0</td>\n",
              "      <td>0.0</td>\n",
              "    </tr>\n",
              "    <tr>\n",
              "      <th>83560</th>\n",
              "      <td>10</td>\n",
              "      <td>CASH_OUT</td>\n",
              "      <td>145014.63</td>\n",
              "      <td>C60491101</td>\n",
              "      <td>NaN</td>\n",
              "      <td>NaN</td>\n",
              "      <td>NaN</td>\n",
              "      <td>NaN</td>\n",
              "      <td>NaN</td>\n",
              "      <td>NaN</td>\n",
              "      <td>NaN</td>\n",
              "    </tr>\n",
              "  </tbody>\n",
              "</table>\n",
              "<p>83561 rows × 11 columns</p>\n",
              "</div>\n",
              "      <button class=\"colab-df-convert\" onclick=\"convertToInteractive('df-1cb6e9e8-3c86-421e-846f-ca3d87233b79')\"\n",
              "              title=\"Convert this dataframe to an interactive table.\"\n",
              "              style=\"display:none;\">\n",
              "        \n",
              "  <svg xmlns=\"http://www.w3.org/2000/svg\" height=\"24px\"viewBox=\"0 0 24 24\"\n",
              "       width=\"24px\">\n",
              "    <path d=\"M0 0h24v24H0V0z\" fill=\"none\"/>\n",
              "    <path d=\"M18.56 5.44l.94 2.06.94-2.06 2.06-.94-2.06-.94-.94-2.06-.94 2.06-2.06.94zm-11 1L8.5 8.5l.94-2.06 2.06-.94-2.06-.94L8.5 2.5l-.94 2.06-2.06.94zm10 10l.94 2.06.94-2.06 2.06-.94-2.06-.94-.94-2.06-.94 2.06-2.06.94z\"/><path d=\"M17.41 7.96l-1.37-1.37c-.4-.4-.92-.59-1.43-.59-.52 0-1.04.2-1.43.59L10.3 9.45l-7.72 7.72c-.78.78-.78 2.05 0 2.83L4 21.41c.39.39.9.59 1.41.59.51 0 1.02-.2 1.41-.59l7.78-7.78 2.81-2.81c.8-.78.8-2.07 0-2.86zM5.41 20L4 18.59l7.72-7.72 1.47 1.35L5.41 20z\"/>\n",
              "  </svg>\n",
              "      </button>\n",
              "      \n",
              "  <style>\n",
              "    .colab-df-container {\n",
              "      display:flex;\n",
              "      flex-wrap:wrap;\n",
              "      gap: 12px;\n",
              "    }\n",
              "\n",
              "    .colab-df-convert {\n",
              "      background-color: #E8F0FE;\n",
              "      border: none;\n",
              "      border-radius: 50%;\n",
              "      cursor: pointer;\n",
              "      display: none;\n",
              "      fill: #1967D2;\n",
              "      height: 32px;\n",
              "      padding: 0 0 0 0;\n",
              "      width: 32px;\n",
              "    }\n",
              "\n",
              "    .colab-df-convert:hover {\n",
              "      background-color: #E2EBFA;\n",
              "      box-shadow: 0px 1px 2px rgba(60, 64, 67, 0.3), 0px 1px 3px 1px rgba(60, 64, 67, 0.15);\n",
              "      fill: #174EA6;\n",
              "    }\n",
              "\n",
              "    [theme=dark] .colab-df-convert {\n",
              "      background-color: #3B4455;\n",
              "      fill: #D2E3FC;\n",
              "    }\n",
              "\n",
              "    [theme=dark] .colab-df-convert:hover {\n",
              "      background-color: #434B5C;\n",
              "      box-shadow: 0px 1px 3px 1px rgba(0, 0, 0, 0.15);\n",
              "      filter: drop-shadow(0px 1px 2px rgba(0, 0, 0, 0.3));\n",
              "      fill: #FFFFFF;\n",
              "    }\n",
              "  </style>\n",
              "\n",
              "      <script>\n",
              "        const buttonEl =\n",
              "          document.querySelector('#df-1cb6e9e8-3c86-421e-846f-ca3d87233b79 button.colab-df-convert');\n",
              "        buttonEl.style.display =\n",
              "          google.colab.kernel.accessAllowed ? 'block' : 'none';\n",
              "\n",
              "        async function convertToInteractive(key) {\n",
              "          const element = document.querySelector('#df-1cb6e9e8-3c86-421e-846f-ca3d87233b79');\n",
              "          const dataTable =\n",
              "            await google.colab.kernel.invokeFunction('convertToInteractive',\n",
              "                                                     [key], {});\n",
              "          if (!dataTable) return;\n",
              "\n",
              "          const docLinkHtml = 'Like what you see? Visit the ' +\n",
              "            '<a target=\"_blank\" href=https://colab.research.google.com/notebooks/data_table.ipynb>data table notebook</a>'\n",
              "            + ' to learn more about interactive tables.';\n",
              "          element.innerHTML = '';\n",
              "          dataTable['output_type'] = 'display_data';\n",
              "          await google.colab.output.renderOutput(dataTable, element);\n",
              "          const docLink = document.createElement('div');\n",
              "          docLink.innerHTML = docLinkHtml;\n",
              "          element.appendChild(docLink);\n",
              "        }\n",
              "      </script>\n",
              "    </div>\n",
              "  </div>\n",
              "  "
            ]
          },
          "metadata": {},
          "execution_count": 2
        }
      ]
    },
    {
      "cell_type": "markdown",
      "source": [
        "#Clean the Dataset"
      ],
      "metadata": {
        "id": "xR2n7xIO4RRg"
      }
    },
    {
      "cell_type": "code",
      "source": [
        "df.columns"
      ],
      "metadata": {
        "colab": {
          "base_uri": "https://localhost:8080/"
        },
        "id": "G-6VhnMX4H8m",
        "outputId": "d8125436-122f-47af-ba41-88699e481dd3"
      },
      "execution_count": 3,
      "outputs": [
        {
          "output_type": "execute_result",
          "data": {
            "text/plain": [
              "Index(['step', 'type', 'amount', 'nameOrig', 'oldbalanceOrg', 'newbalanceOrig',\n",
              "       'nameDest', 'oldbalanceDest', 'newbalanceDest', 'isFraud',\n",
              "       'isFlaggedFraud'],\n",
              "      dtype='object')"
            ]
          },
          "metadata": {},
          "execution_count": 3
        }
      ]
    },
    {
      "cell_type": "code",
      "source": [
        "df.info()"
      ],
      "metadata": {
        "colab": {
          "base_uri": "https://localhost:8080/"
        },
        "id": "tAjJI5sG4H6B",
        "outputId": "7252575a-3637-447f-b57a-3356043722e1"
      },
      "execution_count": 4,
      "outputs": [
        {
          "output_type": "stream",
          "name": "stdout",
          "text": [
            "<class 'pandas.core.frame.DataFrame'>\n",
            "RangeIndex: 83561 entries, 0 to 83560\n",
            "Data columns (total 11 columns):\n",
            " #   Column          Non-Null Count  Dtype  \n",
            "---  ------          --------------  -----  \n",
            " 0   step            83561 non-null  int64  \n",
            " 1   type            83561 non-null  object \n",
            " 2   amount          83561 non-null  float64\n",
            " 3   nameOrig        83561 non-null  object \n",
            " 4   oldbalanceOrg   83560 non-null  float64\n",
            " 5   newbalanceOrig  83560 non-null  float64\n",
            " 6   nameDest        83560 non-null  object \n",
            " 7   oldbalanceDest  83560 non-null  float64\n",
            " 8   newbalanceDest  83560 non-null  float64\n",
            " 9   isFraud         83560 non-null  float64\n",
            " 10  isFlaggedFraud  83560 non-null  float64\n",
            "dtypes: float64(7), int64(1), object(3)\n",
            "memory usage: 7.0+ MB\n"
          ]
        }
      ]
    },
    {
      "cell_type": "markdown",
      "source": [
        "Check if there are any Duplicated Rows"
      ],
      "metadata": {
        "id": "wXbs-Fq_4cse"
      }
    },
    {
      "cell_type": "code",
      "source": [
        "df.duplicated().sum()"
      ],
      "metadata": {
        "colab": {
          "base_uri": "https://localhost:8080/"
        },
        "id": "qvNPLTSh4H23",
        "outputId": "4f760b6c-80ba-4815-fefb-13f86ebe2db4"
      },
      "execution_count": 5,
      "outputs": [
        {
          "output_type": "execute_result",
          "data": {
            "text/plain": [
              "0"
            ]
          },
          "metadata": {},
          "execution_count": 5
        }
      ]
    },
    {
      "cell_type": "markdown",
      "source": [
        "Check each column and correct inconsistent values"
      ],
      "metadata": {
        "id": "KNaMeRQY4hbL"
      }
    },
    {
      "cell_type": "code",
      "source": [
        "df['step'].value_counts(dropna=False)"
      ],
      "metadata": {
        "colab": {
          "base_uri": "https://localhost:8080/"
        },
        "id": "hNRpclB04Hu3",
        "outputId": "fe489f60-cffa-4e6f-a6e2-d5d01a350539"
      },
      "execution_count": 6,
      "outputs": [
        {
          "output_type": "execute_result",
          "data": {
            "text/plain": [
              "9     37628\n",
              "8     21097\n",
              "10    10835\n",
              "7      6837\n",
              "1      2708\n",
              "6      1660\n",
              "2      1014\n",
              "5       665\n",
              "4       565\n",
              "3       552\n",
              "Name: step, dtype: int64"
            ]
          },
          "metadata": {},
          "execution_count": 6
        }
      ]
    },
    {
      "cell_type": "code",
      "source": [
        "df['type'].value_counts(dropna=False)"
      ],
      "metadata": {
        "colab": {
          "base_uri": "https://localhost:8080/"
        },
        "id": "pOXiAz_m4nuX",
        "outputId": "45d804d0-7472-4d08-9093-30d88e10566e"
      },
      "execution_count": 7,
      "outputs": [
        {
          "output_type": "execute_result",
          "data": {
            "text/plain": [
              "PAYMENT     33529\n",
              "CASH_OUT    25156\n",
              "CASH_IN     16818\n",
              "TRANSFER     7192\n",
              "DEBIT         866\n",
              "Name: type, dtype: int64"
            ]
          },
          "metadata": {},
          "execution_count": 7
        }
      ]
    },
    {
      "cell_type": "code",
      "source": [
        "df['amount'].value_counts(dropna=False)"
      ],
      "metadata": {
        "colab": {
          "base_uri": "https://localhost:8080/"
        },
        "id": "W6_dx-8o4pU_",
        "outputId": "1658bd4f-5a34-4f33-999f-70229bd2f995"
      },
      "execution_count": 8,
      "outputs": [
        {
          "output_type": "execute_result",
          "data": {
            "text/plain": [
              "29707.86     3\n",
              "89631.24     3\n",
              "17320.91     3\n",
              "2475.13      3\n",
              "25975.86     3\n",
              "            ..\n",
              "100790.27    1\n",
              "81294.79     1\n",
              "129769.02    1\n",
              "88293.28     1\n",
              "145014.63    1\n",
              "Name: amount, Length: 83149, dtype: int64"
            ]
          },
          "metadata": {},
          "execution_count": 8
        }
      ]
    },
    {
      "cell_type": "code",
      "source": [
        "df['nameOrig'].value_counts(dropna=False)"
      ],
      "metadata": {
        "colab": {
          "base_uri": "https://localhost:8080/"
        },
        "id": "HALqN-jS4pSx",
        "outputId": "f50d9a15-c533-4d5b-b5e2-496baba1b8ad"
      },
      "execution_count": 9,
      "outputs": [
        {
          "output_type": "execute_result",
          "data": {
            "text/plain": [
              "C1231006815    1\n",
              "C1892929983    1\n",
              "C215263093     1\n",
              "C958960621     1\n",
              "C339685866     1\n",
              "              ..\n",
              "C1085227578    1\n",
              "C1104315585    1\n",
              "C872759772     1\n",
              "C1479228131    1\n",
              "C60491101      1\n",
              "Name: nameOrig, Length: 83561, dtype: int64"
            ]
          },
          "metadata": {},
          "execution_count": 9
        }
      ]
    },
    {
      "cell_type": "code",
      "source": [
        "df['oldbalanceOrg'].value_counts(dropna=False)"
      ],
      "metadata": {
        "colab": {
          "base_uri": "https://localhost:8080/"
        },
        "id": "s1B1vKmD4pQh",
        "outputId": "aa7de6ac-b303-4317-a42b-3e609fb71f7f"
      },
      "execution_count": 10,
      "outputs": [
        {
          "output_type": "execute_result",
          "data": {
            "text/plain": [
              "0.00        26061\n",
              "164.00         17\n",
              "181.00         17\n",
              "186.00         17\n",
              "198.00         17\n",
              "            ...  \n",
              "77858.16        1\n",
              "56994.11        1\n",
              "38069.19        1\n",
              "21556.57        1\n",
              "NaN             1\n",
              "Name: oldbalanceOrg, Length: 49284, dtype: int64"
            ]
          },
          "metadata": {},
          "execution_count": 10
        }
      ]
    },
    {
      "cell_type": "code",
      "source": [
        "df['newbalanceOrig'].value_counts(dropna=False)"
      ],
      "metadata": {
        "colab": {
          "base_uri": "https://localhost:8080/"
        },
        "id": "KOccTrqq4pOH",
        "outputId": "d77daed7-2077-4e98-b858-771513b3bc29"
      },
      "execution_count": 11,
      "outputs": [
        {
          "output_type": "execute_result",
          "data": {
            "text/plain": [
              "0.00          43166\n",
              "4910403.44        3\n",
              "2156386.80        2\n",
              "8499043.13        2\n",
              "12239.24          2\n",
              "              ...  \n",
              "695.52            1\n",
              "18053.40          1\n",
              "45614.70          1\n",
              "39904.10          1\n",
              "NaN               1\n",
              "Name: newbalanceOrig, Length: 40352, dtype: int64"
            ]
          },
          "metadata": {},
          "execution_count": 11
        }
      ]
    },
    {
      "cell_type": "code",
      "source": [
        "df['nameDest'].value_counts(dropna=False)"
      ],
      "metadata": {
        "colab": {
          "base_uri": "https://localhost:8080/"
        },
        "id": "0EZDZ3Sf4pL4",
        "outputId": "31a8ded3-11ef-478b-c125-6db6e934abad"
      },
      "execution_count": 12,
      "outputs": [
        {
          "output_type": "execute_result",
          "data": {
            "text/plain": [
              "C985934102     78\n",
              "C1286084959    69\n",
              "C248609774     69\n",
              "C1590550415    67\n",
              "C2083562754    65\n",
              "               ..\n",
              "M1232968184     1\n",
              "M1090964764     1\n",
              "M687125693      1\n",
              "M1839385728     1\n",
              "NaN             1\n",
              "Name: nameDest, Length: 43958, dtype: int64"
            ]
          },
          "metadata": {},
          "execution_count": 12
        }
      ]
    },
    {
      "cell_type": "code",
      "source": [
        "df['oldbalanceDest'].value_counts(dropna=False)"
      ],
      "metadata": {
        "colab": {
          "base_uri": "https://localhost:8080/"
        },
        "id": "XtBWc4wI4pJj",
        "outputId": "1884e560-879a-4a5d-8f37-29f79fe3a66a"
      },
      "execution_count": 13,
      "outputs": [
        {
          "output_type": "execute_result",
          "data": {
            "text/plain": [
              "0.00          38417\n",
              "102.00            7\n",
              "214.00            5\n",
              "103.00            5\n",
              "192.00            4\n",
              "              ...  \n",
              "7853953.80        1\n",
              "6308760.05        1\n",
              "1739590.52        1\n",
              "1110947.02        1\n",
              "NaN               1\n",
              "Name: oldbalanceDest, Length: 44661, dtype: int64"
            ]
          },
          "metadata": {},
          "execution_count": 13
        }
      ]
    },
    {
      "cell_type": "code",
      "source": [
        "df['newbalanceDest'].value_counts(dropna=False)"
      ],
      "metadata": {
        "colab": {
          "base_uri": "https://localhost:8080/"
        },
        "id": "mSx_f-Ny4pHK",
        "outputId": "19d0a927-6e77-4b98-dec3-95051668dcc3"
      },
      "execution_count": 14,
      "outputs": [
        {
          "output_type": "execute_result",
          "data": {
            "text/plain": [
              "0.00           39404\n",
              "971418.91         32\n",
              "19169204.93       29\n",
              "1254956.07        25\n",
              "16532032.16       25\n",
              "               ...  \n",
              "415664.97          1\n",
              "251479.29          1\n",
              "53238.07           1\n",
              "146263.01          1\n",
              "NaN                1\n",
              "Name: newbalanceDest, Length: 14871, dtype: int64"
            ]
          },
          "metadata": {},
          "execution_count": 14
        }
      ]
    },
    {
      "cell_type": "code",
      "source": [
        "df['isFraud'].value_counts(dropna=False)"
      ],
      "metadata": {
        "colab": {
          "base_uri": "https://localhost:8080/"
        },
        "id": "LBbZHF5T4-Wm",
        "outputId": "6f4d7817-6ed5-468c-b272-ebcfec418133"
      },
      "execution_count": 15,
      "outputs": [
        {
          "output_type": "execute_result",
          "data": {
            "text/plain": [
              "0.0    83448\n",
              "1.0      112\n",
              "NaN        1\n",
              "Name: isFraud, dtype: int64"
            ]
          },
          "metadata": {},
          "execution_count": 15
        }
      ]
    },
    {
      "cell_type": "code",
      "source": [
        "df['isFlaggedFraud'].value_counts(dropna=False)"
      ],
      "metadata": {
        "colab": {
          "base_uri": "https://localhost:8080/"
        },
        "id": "Cr0hSiKa4_gP",
        "outputId": "c7160615-e48a-4e22-d1cf-0403820f2aaa"
      },
      "execution_count": 16,
      "outputs": [
        {
          "output_type": "execute_result",
          "data": {
            "text/plain": [
              "0.0    83560\n",
              "NaN        1\n",
              "Name: isFlaggedFraud, dtype: int64"
            ]
          },
          "metadata": {},
          "execution_count": 16
        }
      ]
    },
    {
      "cell_type": "code",
      "source": [
        "df.isna().sum()"
      ],
      "metadata": {
        "colab": {
          "base_uri": "https://localhost:8080/"
        },
        "id": "TiPatyzms-Wl",
        "outputId": "500b220b-383d-4785-d139-27f5e4f134b5"
      },
      "execution_count": 17,
      "outputs": [
        {
          "output_type": "execute_result",
          "data": {
            "text/plain": [
              "step              0\n",
              "type              0\n",
              "amount            0\n",
              "nameOrig          0\n",
              "oldbalanceOrg     1\n",
              "newbalanceOrig    1\n",
              "nameDest          1\n",
              "oldbalanceDest    1\n",
              "newbalanceDest    1\n",
              "isFraud           1\n",
              "isFlaggedFraud    1\n",
              "dtype: int64"
            ]
          },
          "metadata": {},
          "execution_count": 17
        }
      ]
    },
    {
      "cell_type": "code",
      "source": [
        "df = df.dropna()"
      ],
      "metadata": {
        "id": "Mg5M-g6u5EAl"
      },
      "execution_count": 18,
      "outputs": []
    },
    {
      "cell_type": "code",
      "source": [
        "df.isna().sum()"
      ],
      "metadata": {
        "colab": {
          "base_uri": "https://localhost:8080/"
        },
        "id": "QksODxtUtCTV",
        "outputId": "b3822d40-dc90-44cc-8ec8-34b3c3b3e77b"
      },
      "execution_count": 19,
      "outputs": [
        {
          "output_type": "execute_result",
          "data": {
            "text/plain": [
              "step              0\n",
              "type              0\n",
              "amount            0\n",
              "nameOrig          0\n",
              "oldbalanceOrg     0\n",
              "newbalanceOrig    0\n",
              "nameDest          0\n",
              "oldbalanceDest    0\n",
              "newbalanceDest    0\n",
              "isFraud           0\n",
              "isFlaggedFraud    0\n",
              "dtype: int64"
            ]
          },
          "metadata": {},
          "execution_count": 19
        }
      ]
    },
    {
      "cell_type": "markdown",
      "source": [
        "#Explore the Dataset"
      ],
      "metadata": {
        "id": "51LaNQbIta33"
      }
    },
    {
      "cell_type": "markdown",
      "source": [
        "Check correlation between features."
      ],
      "metadata": {
        "id": "N4Hn7YL3ZkB-"
      }
    },
    {
      "cell_type": "code",
      "source": [
        "corr = df.corr()"
      ],
      "metadata": {
        "id": "AyaNWhGZuZjt"
      },
      "execution_count": 20,
      "outputs": []
    },
    {
      "cell_type": "code",
      "source": [
        "sns.heatmap(corr, square=True, cmap='Blues');"
      ],
      "metadata": {
        "colab": {
          "base_uri": "https://localhost:8080/",
          "height": 342
        },
        "id": "jjj1S8ToYS1H",
        "outputId": "03ed7ba4-6665-43b4-fcfb-7d03afbef36d"
      },
      "execution_count": 21,
      "outputs": [
        {
          "output_type": "display_data",
          "data": {
            "text/plain": [
              "<Figure size 432x288 with 2 Axes>"
            ],
            "image/png": "[encoded data removed]"
          },
          "metadata": {
            "needs_background": "light"
          }
        }
      ]
    },
    {
      "cell_type": "code",
      "source": [
        "sns.heatmap(corr, cbar=0, linewidths=2,vmax=1, vmin=0, square=True, cmap='Blues');"
      ],
      "metadata": {
        "colab": {
          "base_uri": "https://localhost:8080/",
          "height": 338
        },
        "id": "pxDERPM7YV2R",
        "outputId": "60853749-b2a6-4da6-ecff-4ee1f97bfd55"
      },
      "execution_count": 22,
      "outputs": [
        {
          "output_type": "display_data",
          "data": {
            "text/plain": [
              "<Figure size 432x288 with 1 Axes>"
            ],
            "image/png": "[encoded data removed]"
          },
          "metadata": {
            "needs_background": "light"
          }
        }
      ]
    },
    {
      "cell_type": "markdown",
      "source": [
        "newbalanceDest and oldbalanceDest have a positive correlation, as well as newbalanceOrig and oldbalanceOrig."
      ],
      "metadata": {
        "id": "zBsCLnWcZXjK"
      }
    },
    {
      "cell_type": "code",
      "source": [
        "# Target class chart\n",
        "plt.figure(figsize=(8,6))\n",
        "\n",
        "plt.subplot(121)\n",
        "ax = sns.countplot(data=df,x='isFraud')\n",
        "\n",
        "plt.subplot(122)\n",
        "ax = sns.countplot(data=df,x='isFlaggedFraud')\n",
        "\n",
        "plt.suptitle('Count plot of isFraud and isFlaggedFraud')\n",
        "plt.show()"
      ],
      "metadata": {
        "colab": {
          "base_uri": "https://localhost:8080/",
          "height": 431
        },
        "id": "lORk5tsBDB_Q",
        "outputId": "67d9af32-2975-4e8b-c7f7-73447d0fd13c"
      },
      "execution_count": 23,
      "outputs": [
        {
          "output_type": "display_data",
          "data": {
            "text/plain": [
              "<Figure size 576x432 with 2 Axes>"
            ],
            "image/png": "[encoded data removed]"
          },
          "metadata": {
            "needs_background": "light"
          }
        }
      ]
    },
    {
      "cell_type": "code",
      "source": [
        "# Countplot of type feature\n",
        "plt.figure(figsize=(8,6))\n",
        "ax = sns.countplot(data=df, x='type',hue='isFraud')\n",
        "plt.title('Type Vs isFraud')\n",
        "plt.show();"
      ],
      "metadata": {
        "colab": {
          "base_uri": "https://localhost:8080/",
          "height": 405
        },
        "id": "MWTRyF1lCl6O",
        "outputId": "b4fb6e79-c42b-4361-b31c-72f262f5f12e"
      },
      "execution_count": 24,
      "outputs": [
        {
          "output_type": "display_data",
          "data": {
            "text/plain": [
              "<Figure size 576x432 with 1 Axes>"
            ],
            "image/png": "[encoded data removed]"
          },
          "metadata": {
            "needs_background": "light"
          }
        }
      ]
    },
    {
      "cell_type": "code",
      "source": [
        "# Histogram of Amount feature based on fraud\n",
        "plt.figure(figsize=(8,6))\n",
        "sns.histplot(data=df[df['isFraud']==1],x='amount',kde=True)\n",
        "plt.title('Histogram of Amount of Fradulent Transactions')\n",
        "plt.show();"
      ],
      "metadata": {
        "colab": {
          "base_uri": "https://localhost:8080/",
          "height": 404
        },
        "id": "d3K5yUZzCQFa",
        "outputId": "d85a3fe7-fafa-475a-96db-0dc42009ef42"
      },
      "execution_count": 25,
      "outputs": [
        {
          "output_type": "display_data",
          "data": {
            "text/plain": [
              "<Figure size 576x432 with 1 Axes>"
            ],
            "image/png": "[encoded data removed]"
          },
          "metadata": {
            "needs_background": "light"
          }
        }
      ]
    },
    {
      "cell_type": "markdown",
      "source": [
        "Most of the fraudulent transactions are below the amount of 200,000."
      ],
      "metadata": {
        "id": "H5_HJyRzCYT2"
      }
    },
    {
      "cell_type": "markdown",
      "source": [
        "#Prepare data for Modeling + Preprocessing"
      ],
      "metadata": {
        "id": "SyrZeGpyaA90"
      }
    },
    {
      "cell_type": "markdown",
      "source": [
        "Unsupervised Learning: Remove \"isFlaggedFraud\" column to see if the model can learn which transactions are fraud without that column."
      ],
      "metadata": {
        "id": "5hS_a1qJah-L"
      }
    },
    {
      "cell_type": "code",
      "source": [
        "df.head()"
      ],
      "metadata": {
        "colab": {
          "base_uri": "https://localhost:8080/",
          "height": 206
        },
        "id": "5CBpBohdbGyu",
        "outputId": "174562f6-fcaf-4f0d-cd0e-06419faf18a2"
      },
      "execution_count": 26,
      "outputs": [
        {
          "output_type": "execute_result",
          "data": {
            "text/plain": [
              "   step      type    amount     nameOrig  oldbalanceOrg  newbalanceOrig  \\\n",
              "0     1   PAYMENT   9839.64  C1231006815       170136.0       160296.36   \n",
              "1     1   PAYMENT   1864.28  C1666544295        21249.0        19384.72   \n",
              "2     1  TRANSFER    181.00  C1305486145          181.0            0.00   \n",
              "3     1  CASH_OUT    181.00   C840083671          181.0            0.00   \n",
              "4     1   PAYMENT  11668.14  C2048537720        41554.0        29885.86   \n",
              "\n",
              "      nameDest  oldbalanceDest  newbalanceDest  isFraud  isFlaggedFraud  \n",
              "0  M1979787155             0.0             0.0      0.0             0.0  \n",
              "1  M2044282225             0.0             0.0      0.0             0.0  \n",
              "2   C553264065             0.0             0.0      1.0             0.0  \n",
              "3    C38997010         21182.0             0.0      1.0             0.0  \n",
              "4  M1230701703             0.0             0.0      0.0             0.0  "
            ],
            "text/html": [
              "\n",
              "  <div id=\"df-00a78b0b-4e8f-4800-8992-e0f1bd726506\">\n",
              "    <div class=\"colab-df-container\">\n",
              "      <div>\n",
              "<style scoped>\n",
              "    .dataframe tbody tr th:only-of-type {\n",
              "        vertical-align: middle;\n",
              "    }\n",
              "\n",
              "    .dataframe tbody tr th {\n",
              "        vertical-align: top;\n",
              "    }\n",
              "\n",
              "    .dataframe thead th {\n",
              "        text-align: right;\n",
              "    }\n",
              "</style>\n",
              "<table border=\"1\" class=\"dataframe\">\n",
              "  <thead>\n",
              "    <tr style=\"text-align: right;\">\n",
              "      <th></th>\n",
              "      <th>step</th>\n",
              "      <th>type</th>\n",
              "      <th>amount</th>\n",
              "      <th>nameOrig</th>\n",
              "      <th>oldbalanceOrg</th>\n",
              "      <th>newbalanceOrig</th>\n",
              "      <th>nameDest</th>\n",
              "      <th>oldbalanceDest</th>\n",
              "      <th>newbalanceDest</th>\n",
              "      <th>isFraud</th>\n",
              "      <th>isFlaggedFraud</th>\n",
              "    </tr>\n",
              "  </thead>\n",
              "  <tbody>\n",
              "    <tr>\n",
              "      <th>0</th>\n",
              "      <td>1</td>\n",
              "      <td>PAYMENT</td>\n",
              "      <td>9839.64</td>\n",
              "      <td>C1231006815</td>\n",
              "      <td>170136.0</td>\n",
              "      <td>160296.36</td>\n",
              "      <td>M1979787155</td>\n",
              "      <td>0.0</td>\n",
              "      <td>0.0</td>\n",
              "      <td>0.0</td>\n",
              "      <td>0.0</td>\n",
              "    </tr>\n",
              "    <tr>\n",
              "      <th>1</th>\n",
              "      <td>1</td>\n",
              "      <td>PAYMENT</td>\n",
              "      <td>1864.28</td>\n",
              "      <td>C1666544295</td>\n",
              "      <td>21249.0</td>\n",
              "      <td>19384.72</td>\n",
              "      <td>M2044282225</td>\n",
              "      <td>0.0</td>\n",
              "      <td>0.0</td>\n",
              "      <td>0.0</td>\n",
              "      <td>0.0</td>\n",
              "    </tr>\n",
              "    <tr>\n",
              "      <th>2</th>\n",
              "      <td>1</td>\n",
              "      <td>TRANSFER</td>\n",
              "      <td>181.00</td>\n",
              "      <td>C1305486145</td>\n",
              "      <td>181.0</td>\n",
              "      <td>0.00</td>\n",
              "      <td>C553264065</td>\n",
              "      <td>0.0</td>\n",
              "      <td>0.0</td>\n",
              "      <td>1.0</td>\n",
              "      <td>0.0</td>\n",
              "    </tr>\n",
              "    <tr>\n",
              "      <th>3</th>\n",
              "      <td>1</td>\n",
              "      <td>CASH_OUT</td>\n",
              "      <td>181.00</td>\n",
              "      <td>C840083671</td>\n",
              "      <td>181.0</td>\n",
              "      <td>0.00</td>\n",
              "      <td>C38997010</td>\n",
              "      <td>21182.0</td>\n",
              "      <td>0.0</td>\n",
              "      <td>1.0</td>\n",
              "      <td>0.0</td>\n",
              "    </tr>\n",
              "    <tr>\n",
              "      <th>4</th>\n",
              "      <td>1</td>\n",
              "      <td>PAYMENT</td>\n",
              "      <td>11668.14</td>\n",
              "      <td>C2048537720</td>\n",
              "      <td>41554.0</td>\n",
              "      <td>29885.86</td>\n",
              "      <td>M1230701703</td>\n",
              "      <td>0.0</td>\n",
              "      <td>0.0</td>\n",
              "      <td>0.0</td>\n",
              "      <td>0.0</td>\n",
              "    </tr>\n",
              "  </tbody>\n",
              "</table>\n",
              "</div>\n",
              "      <button class=\"colab-df-convert\" onclick=\"convertToInteractive('df-00a78b0b-4e8f-4800-8992-e0f1bd726506')\"\n",
              "              title=\"Convert this dataframe to an interactive table.\"\n",
              "              style=\"display:none;\">\n",
              "        \n",
              "  <svg xmlns=\"http://www.w3.org/2000/svg\" height=\"24px\"viewBox=\"0 0 24 24\"\n",
              "       width=\"24px\">\n",
              "    <path d=\"M0 0h24v24H0V0z\" fill=\"none\"/>\n",
              "    <path d=\"M18.56 5.44l.94 2.06.94-2.06 2.06-.94-2.06-.94-.94-2.06-.94 2.06-2.06.94zm-11 1L8.5 8.5l.94-2.06 2.06-.94-2.06-.94L8.5 2.5l-.94 2.06-2.06.94zm10 10l.94 2.06.94-2.06 2.06-.94-2.06-.94-.94-2.06-.94 2.06-2.06.94z\"/><path d=\"M17.41 7.96l-1.37-1.37c-.4-.4-.92-.59-1.43-.59-.52 0-1.04.2-1.43.59L10.3 9.45l-7.72 7.72c-.78.78-.78 2.05 0 2.83L4 21.41c.39.39.9.59 1.41.59.51 0 1.02-.2 1.41-.59l7.78-7.78 2.81-2.81c.8-.78.8-2.07 0-2.86zM5.41 20L4 18.59l7.72-7.72 1.47 1.35L5.41 20z\"/>\n",
              "  </svg>\n",
              "      </button>\n",
              "      \n",
              "  <style>\n",
              "    .colab-df-container {\n",
              "      display:flex;\n",
              "      flex-wrap:wrap;\n",
              "      gap: 12px;\n",
              "    }\n",
              "\n",
              "    .colab-df-convert {\n",
              "      background-color: #E8F0FE;\n",
              "      border: none;\n",
              "      border-radius: 50%;\n",
              "      cursor: pointer;\n",
              "      display: none;\n",
              "      fill: #1967D2;\n",
              "      height: 32px;\n",
              "      padding: 0 0 0 0;\n",
              "      width: 32px;\n",
              "    }\n",
              "\n",
              "    .colab-df-convert:hover {\n",
              "      background-color: #E2EBFA;\n",
              "      box-shadow: 0px 1px 2px rgba(60, 64, 67, 0.3), 0px 1px 3px 1px rgba(60, 64, 67, 0.15);\n",
              "      fill: #174EA6;\n",
              "    }\n",
              "\n",
              "    [theme=dark] .colab-df-convert {\n",
              "      background-color: #3B4455;\n",
              "      fill: #D2E3FC;\n",
              "    }\n",
              "\n",
              "    [theme=dark] .colab-df-convert:hover {\n",
              "      background-color: #434B5C;\n",
              "      box-shadow: 0px 1px 3px 1px rgba(0, 0, 0, 0.15);\n",
              "      filter: drop-shadow(0px 1px 2px rgba(0, 0, 0, 0.3));\n",
              "      fill: #FFFFFF;\n",
              "    }\n",
              "  </style>\n",
              "\n",
              "      <script>\n",
              "        const buttonEl =\n",
              "          document.querySelector('#df-00a78b0b-4e8f-4800-8992-e0f1bd726506 button.colab-df-convert');\n",
              "        buttonEl.style.display =\n",
              "          google.colab.kernel.accessAllowed ? 'block' : 'none';\n",
              "\n",
              "        async function convertToInteractive(key) {\n",
              "          const element = document.querySelector('#df-00a78b0b-4e8f-4800-8992-e0f1bd726506');\n",
              "          const dataTable =\n",
              "            await google.colab.kernel.invokeFunction('convertToInteractive',\n",
              "                                                     [key], {});\n",
              "          if (!dataTable) return;\n",
              "\n",
              "          const docLinkHtml = 'Like what you see? Visit the ' +\n",
              "            '<a target=\"_blank\" href=https://colab.research.google.com/notebooks/data_table.ipynb>data table notebook</a>'\n",
              "            + ' to learn more about interactive tables.';\n",
              "          element.innerHTML = '';\n",
              "          dataTable['output_type'] = 'display_data';\n",
              "          await google.colab.output.renderOutput(dataTable, element);\n",
              "          const docLink = document.createElement('div');\n",
              "          docLink.innerHTML = docLinkHtml;\n",
              "          element.appendChild(docLink);\n",
              "        }\n",
              "      </script>\n",
              "    </div>\n",
              "  </div>\n",
              "  "
            ]
          },
          "metadata": {},
          "execution_count": 26
        }
      ]
    },
    {
      "cell_type": "code",
      "source": [
        "# Save X data\n",
        "X = df.drop(columns = ['isFraud','step','nameOrig','nameDest','isFlaggedFraud'])\n",
        "# Encode our target\n",
        "y = df['isFraud']"
      ],
      "metadata": {
        "id": "Hm4WAo8BYwnZ"
      },
      "execution_count": 27,
      "outputs": []
    },
    {
      "cell_type": "code",
      "source": [
        "X.shape"
      ],
      "metadata": {
        "id": "0L2TaPnIaE3K",
        "colab": {
          "base_uri": "https://localhost:8080/"
        },
        "outputId": "a9b4d7ae-4de4-46c6-8d65-c0fcb9f9c258"
      },
      "execution_count": 28,
      "outputs": [
        {
          "output_type": "execute_result",
          "data": {
            "text/plain": [
              "(83560, 6)"
            ]
          },
          "metadata": {},
          "execution_count": 28
        }
      ]
    },
    {
      "cell_type": "code",
      "source": [
        "# Train Test Split\n",
        "X_train, X_test, y_train, y_test = train_test_split(X, y, random_state = 42)"
      ],
      "metadata": {
        "id": "2NBZW2p-cdg2"
      },
      "execution_count": 29,
      "outputs": []
    },
    {
      "cell_type": "code",
      "source": [
        "# Selectors\n",
        "cat_selector = make_column_selector(dtype_include='object')\n",
        "num_selector = make_column_selector(dtype_include='number')\n",
        "# Scaler\n",
        "scaler = StandardScaler()\n",
        "# One-hot encoder\n",
        "ohe = OneHotEncoder(handle_unknown='ignore', sparse=False)\n",
        "# PCA\n",
        "pca = PCA()"
      ],
      "metadata": {
        "id": "YM8SM37gcgdC"
      },
      "execution_count": 30,
      "outputs": []
    },
    {
      "cell_type": "code",
      "source": [
        "# Numeric pipeline\n",
        "numeric_pipe = make_pipeline(scaler)\n",
        "numeric_pipe"
      ],
      "metadata": {
        "id": "7XJUpaQ2dnp-",
        "colab": {
          "base_uri": "https://localhost:8080/"
        },
        "outputId": "250ec070-8323-420b-8200-6fb639eb09bd"
      },
      "execution_count": 31,
      "outputs": [
        {
          "output_type": "execute_result",
          "data": {
            "text/plain": [
              "Pipeline(steps=[('standardscaler', StandardScaler())])"
            ]
          },
          "metadata": {},
          "execution_count": 31
        }
      ]
    },
    {
      "cell_type": "code",
      "source": [
        "# Categorical pipeline\n",
        "categorical_pipe = make_pipeline(ohe)\n",
        "categorical_pipe"
      ],
      "metadata": {
        "id": "End2Razzd1hP",
        "colab": {
          "base_uri": "https://localhost:8080/"
        },
        "outputId": "5f0eb810-e828-4616-c165-e7a484b6315b"
      },
      "execution_count": 32,
      "outputs": [
        {
          "output_type": "execute_result",
          "data": {
            "text/plain": [
              "Pipeline(steps=[('onehotencoder',\n",
              "                 OneHotEncoder(handle_unknown='ignore', sparse=False))])"
            ]
          },
          "metadata": {},
          "execution_count": 32
        }
      ]
    },
    {
      "cell_type": "code",
      "source": [
        "# Tuples for Column Transformer\n",
        "number_tuple = (numeric_pipe, num_selector)\n",
        "category_tuple = (categorical_pipe, cat_selector)\n",
        "# ColumnTransformer\n",
        "preprocessor = make_column_transformer(number_tuple, category_tuple)\n",
        "preprocessor"
      ],
      "metadata": {
        "id": "WOHkN9Uld1fK",
        "colab": {
          "base_uri": "https://localhost:8080/"
        },
        "outputId": "d74356fd-b6f4-4bba-ca46-05e4aba995f9"
      },
      "execution_count": 33,
      "outputs": [
        {
          "output_type": "execute_result",
          "data": {
            "text/plain": [
              "ColumnTransformer(transformers=[('pipeline-1',\n",
              "                                 Pipeline(steps=[('standardscaler',\n",
              "                                                  StandardScaler())]),\n",
              "                                 <sklearn.compose._column_transformer.make_column_selector object at 0x7f6df0907ad0>),\n",
              "                                ('pipeline-2',\n",
              "                                 Pipeline(steps=[('onehotencoder',\n",
              "                                                  OneHotEncoder(handle_unknown='ignore',\n",
              "                                                                sparse=False))]),\n",
              "                                 <sklearn.compose._column_transformer.make_column_selector object at 0x7f6df0907510>)])"
            ]
          },
          "metadata": {},
          "execution_count": 33
        }
      ]
    },
    {
      "cell_type": "code",
      "source": [
        "# fit on train\n",
        "preprocessor.fit(X_train)"
      ],
      "metadata": {
        "id": "9-sQ_Oyhd1cx",
        "colab": {
          "base_uri": "https://localhost:8080/"
        },
        "outputId": "699f3b74-4587-4b71-e0f0-3699bbab9def"
      },
      "execution_count": 34,
      "outputs": [
        {
          "output_type": "execute_result",
          "data": {
            "text/plain": [
              "ColumnTransformer(transformers=[('pipeline-1',\n",
              "                                 Pipeline(steps=[('standardscaler',\n",
              "                                                  StandardScaler())]),\n",
              "                                 <sklearn.compose._column_transformer.make_column_selector object at 0x7f6df0907ad0>),\n",
              "                                ('pipeline-2',\n",
              "                                 Pipeline(steps=[('onehotencoder',\n",
              "                                                  OneHotEncoder(handle_unknown='ignore',\n",
              "                                                                sparse=False))]),\n",
              "                                 <sklearn.compose._column_transformer.make_column_selector object at 0x7f6df0907510>)])"
            ]
          },
          "metadata": {},
          "execution_count": 34
        }
      ]
    },
    {
      "cell_type": "code",
      "source": [
        "X_train.shape"
      ],
      "metadata": {
        "colab": {
          "base_uri": "https://localhost:8080/"
        },
        "id": "YYMGnaOoihf6",
        "outputId": "ce1933a2-088d-4587-f1cc-c33ad05dcc35"
      },
      "execution_count": 35,
      "outputs": [
        {
          "output_type": "execute_result",
          "data": {
            "text/plain": [
              "(62670, 6)"
            ]
          },
          "metadata": {},
          "execution_count": 35
        }
      ]
    },
    {
      "cell_type": "code",
      "source": [
        "# transform train and test\n",
        "X_train_processed = preprocessor.transform(X_train)\n",
        "X_test_processed = preprocessor.transform(X_test)"
      ],
      "metadata": {
        "id": "IdotR0Add1ab"
      },
      "execution_count": 36,
      "outputs": []
    },
    {
      "cell_type": "code",
      "source": [
        "pca.fit(X_train_processed)"
      ],
      "metadata": {
        "colab": {
          "base_uri": "https://localhost:8080/"
        },
        "id": "E_f0GwC9j6-E",
        "outputId": "030bbf30-16b4-4ef7-bd13-6e1334473dfb"
      },
      "execution_count": 37,
      "outputs": [
        {
          "output_type": "execute_result",
          "data": {
            "text/plain": [
              "PCA()"
            ]
          },
          "metadata": {},
          "execution_count": 37
        }
      ]
    },
    {
      "cell_type": "code",
      "source": [
        "X_train_processed.shape"
      ],
      "metadata": {
        "colab": {
          "base_uri": "https://localhost:8080/"
        },
        "id": "hsmg7HMjkJEb",
        "outputId": "4c0205d0-cf4d-441d-c185-f709c79ea067"
      },
      "execution_count": 38,
      "outputs": [
        {
          "output_type": "execute_result",
          "data": {
            "text/plain": [
              "(62670, 10)"
            ]
          },
          "metadata": {},
          "execution_count": 38
        }
      ]
    },
    {
      "cell_type": "markdown",
      "source": [
        "There are 10 columns before PCA."
      ],
      "metadata": {
        "id": "VRT1D4wRkM7t"
      }
    },
    {
      "cell_type": "code",
      "source": [
        "# Visualize the Scree Plot\n",
        "plt.plot(range(1, 11), pca.explained_variance_ratio_[:10], marker = '.')\n",
        "plt.xticks(ticks = range(1, 11), fontsize=8)\n",
        "plt.xlabel('Principal Component')\n",
        "plt.ylabel('Proportion of Explained Variance')"
      ],
      "metadata": {
        "colab": {
          "base_uri": "https://localhost:8080/",
          "height": 295
        },
        "id": "Sa_EmF9EimWq",
        "outputId": "85b66c9b-c0f9-4b0f-926f-d68ace66bd32"
      },
      "execution_count": 39,
      "outputs": [
        {
          "output_type": "execute_result",
          "data": {
            "text/plain": [
              "Text(0, 0.5, 'Proportion of Explained Variance')"
            ]
          },
          "metadata": {},
          "execution_count": 39
        },
        {
          "output_type": "display_data",
          "data": {
            "text/plain": [
              "<Figure size 432x288 with 1 Axes>"
            ],
            "image/png": "[encoded data removed]"
          },
          "metadata": {
            "needs_background": "light"
          }
        }
      ]
    },
    {
      "cell_type": "code",
      "source": [
        "# Instantiate PCA, fit and transform to the model\n",
        "pca3 = PCA(n_components=3)\n",
        "X_train = pca3.fit_transform(X_train_processed)\n",
        "X_test = pca3.transform(X_test_processed)\n",
        "X_train.shape"
      ],
      "metadata": {
        "id": "btsSD-sNd1Q7",
        "colab": {
          "base_uri": "https://localhost:8080/"
        },
        "outputId": "60d9aa6d-d5ee-41fe-ce30-04ca68df9b5e"
      },
      "execution_count": 40,
      "outputs": [
        {
          "output_type": "execute_result",
          "data": {
            "text/plain": [
              "(62670, 3)"
            ]
          },
          "metadata": {},
          "execution_count": 40
        }
      ]
    },
    {
      "cell_type": "markdown",
      "source": [
        "Since we are trying to classify whether a transaction is fraud or not, this means that we are doing a binary classification. I will be using the sigmoid activation function for the output layer, use BCE for the loss, and adam for the optimizer."
      ],
      "metadata": {
        "id": "EP7sy3GYmKIk"
      }
    },
    {
      "cell_type": "code",
      "source": [
        "# Step 1: Define our network structure\n",
        "# Save the number of features we have as our input shape\n",
        "input_shape = X_train.shape[1]\n",
        "input_shape"
      ],
      "metadata": {
        "colab": {
          "base_uri": "https://localhost:8080/"
        },
        "id": "i4G6X8NHmK8K",
        "outputId": "459b1a7b-fa7b-4588-95f6-4cd2bfe34103"
      },
      "execution_count": 41,
      "outputs": [
        {
          "output_type": "execute_result",
          "data": {
            "text/plain": [
              "3"
            ]
          },
          "metadata": {},
          "execution_count": 41
        }
      ]
    },
    {
      "cell_type": "markdown",
      "source": [
        "#Unsupervised Learning - Model 1 (Binary Classification)"
      ],
      "metadata": {
        "id": "z4aSFRoImT84"
      }
    },
    {
      "cell_type": "code",
      "source": [
        "# Sequential model\n",
        "model = Sequential()"
      ],
      "metadata": {
        "id": "RB6YpNw0mLms"
      },
      "execution_count": 42,
      "outputs": []
    },
    {
      "cell_type": "code",
      "source": [
        "# First hidden layer\n",
        "model.add(Dense(3, # How many neurons you have in your first hidden layer\n",
        "                input_dim = input_shape, # What is the shape of your input features (number of columns)\n",
        "                activation = 'relu')) # What activation function are you using?\n",
        "# Second hidden layer\n",
        "model.add(Dense(3, # How many neurons you have in your second hidden layer\n",
        "                activation = 'relu')) # What activation function are you using?\n",
        "# Output layer\n",
        "model.add(Dense(1, activation = 'sigmoid'))"
      ],
      "metadata": {
        "id": "33oTyGFemLkJ"
      },
      "execution_count": 43,
      "outputs": []
    },
    {
      "cell_type": "code",
      "source": [
        "# Step 2: Compile\n",
        "model.compile(loss = 'bce', optimizer = 'adam', metrics = ['accuracy'])"
      ],
      "metadata": {
        "id": "0o63lfEJmLh_"
      },
      "execution_count": 44,
      "outputs": []
    },
    {
      "cell_type": "code",
      "source": [
        "# Step 3: Fit our model\n",
        "history = model.fit(X_train, y_train,\n",
        "                    validation_data = (X_test, y_test), \n",
        "                    epochs=10)"
      ],
      "metadata": {
        "colab": {
          "base_uri": "https://localhost:8080/"
        },
        "id": "M3dB9dvbmLfq",
        "outputId": "a2a09692-ff7b-4fb6-a032-a92a3ca06a3d"
      },
      "execution_count": 45,
      "outputs": [
        {
          "output_type": "stream",
          "name": "stdout",
          "text": [
            "Epoch 1/10\n",
            "1959/1959 [==============================] - 14s 6ms/step - loss: 0.0668 - accuracy: 0.9986 - val_loss: 0.0110 - val_accuracy: 0.9986\n",
            "Epoch 2/10\n",
            "1959/1959 [==============================] - 11s 6ms/step - loss: 0.0101 - accuracy: 0.9987 - val_loss: 0.0107 - val_accuracy: 0.9986\n",
            "Epoch 3/10\n",
            "1959/1959 [==============================] - 8s 4ms/step - loss: 0.0098 - accuracy: 0.9987 - val_loss: 0.0103 - val_accuracy: 0.9986\n",
            "Epoch 4/10\n",
            "1959/1959 [==============================] - 4s 2ms/step - loss: 0.0095 - accuracy: 0.9987 - val_loss: 0.0104 - val_accuracy: 0.9986\n",
            "Epoch 5/10\n",
            "1959/1959 [==============================] - 4s 2ms/step - loss: 0.0094 - accuracy: 0.9987 - val_loss: 0.0102 - val_accuracy: 0.9986\n",
            "Epoch 6/10\n",
            "1959/1959 [==============================] - 4s 2ms/step - loss: 0.0092 - accuracy: 0.9987 - val_loss: 0.0100 - val_accuracy: 0.9986\n",
            "Epoch 7/10\n",
            "1959/1959 [==============================] - 5s 2ms/step - loss: 0.0091 - accuracy: 0.9987 - val_loss: 0.0098 - val_accuracy: 0.9986\n",
            "Epoch 8/10\n",
            "1959/1959 [==============================] - 4s 2ms/step - loss: 0.0090 - accuracy: 0.9987 - val_loss: 0.0097 - val_accuracy: 0.9986\n",
            "Epoch 9/10\n",
            "1959/1959 [==============================] - 4s 2ms/step - loss: 0.0088 - accuracy: 0.9987 - val_loss: 0.0094 - val_accuracy: 0.9986\n",
            "Epoch 10/10\n",
            "1959/1959 [==============================] - 5s 2ms/step - loss: 0.0087 - accuracy: 0.9987 - val_loss: 0.0091 - val_accuracy: 0.9986\n"
          ]
        }
      ]
    },
    {
      "cell_type": "code",
      "source": [
        "# You can use this function to see how your model improves over time\n",
        "def plot_history(history, metric=None):\n",
        "  \"\"\"plot loss and passed metric.  metric is passed as string and must match 'metric'\n",
        "  argument in the compile step\"\"\"\n",
        "  fig, axes = plt.subplots(2,1, figsize = (5,10))\n",
        "  axes[0].plot(history.history['loss'], label = \"train\")\n",
        "  axes[0].plot(history.history['val_loss'], label='test')\n",
        "  axes[0].set_title('Loss')\n",
        "  axes[0].legend()\n",
        "  if metric:\n",
        "    axes[1].plot(history.history[metric], label = 'train')\n",
        "    axes[1].plot(history.history['val_' + metric], label = 'test')\n",
        "    axes[1].set_title(metric)\n",
        "    axes[1].legend()\n",
        "\n",
        "  plt.show()"
      ],
      "metadata": {
        "id": "WchjQN7mmLds"
      },
      "execution_count": 46,
      "outputs": []
    },
    {
      "cell_type": "code",
      "source": [
        "plot_history(history, 'accuracy')"
      ],
      "metadata": {
        "colab": {
          "base_uri": "https://localhost:8080/",
          "height": 607
        },
        "id": "ZxxhDWbEmLbd",
        "outputId": "3c4b32f5-8358-46f0-87e2-ef5b60bc615e"
      },
      "execution_count": 47,
      "outputs": [
        {
          "output_type": "display_data",
          "data": {
            "text/plain": [
              "<Figure size 360x720 with 2 Axes>"
            ],
            "image/png": "[encoded data removed]"
          },
          "metadata": {
            "needs_background": "light"
          }
        }
      ]
    },
    {
      "cell_type": "code",
      "source": [
        "# Make predicitons and evaluate your model\n",
        "print('Training Scores')\n",
        "\n",
        "# Define labels for the confusion matrix\n",
        "labels = ['Not Fraud', 'Fraud']\n",
        "\n",
        "# Get training predictions and round them to integers instead of floats\n",
        "train_preds = np.rint(model.predict(X_train))\n",
        "\n",
        "# Classification Report\n",
        "print(classification_report(y_train, train_preds))\n",
        "\n",
        "# Confusion Matrix\n",
        "conf_mat = confusion_matrix(y_train, train_preds, normalize='true')\n",
        "heatmap(conf_mat, xticklabels=labels, yticklabels=labels, annot=True)\n",
        "plt.show()\n",
        "print('\\n')\n",
        "print('Testing Scores')\n",
        "\n",
        "# Get testing predictions and round them to integers\n",
        "test_preds = np.rint(model.predict(X_test))\n",
        "\n",
        "# Classification report\n",
        "print(classification_report(y_test, test_preds))\n",
        "\n",
        "# Confusion Matrix\n",
        "conf_mat = confusion_matrix(y_test, test_preds, normalize='true')\n",
        "heatmap(conf_mat, xticklabels=labels, yticklabels=labels, annot=True)\n",
        "plt.show()"
      ],
      "metadata": {
        "colab": {
          "base_uri": "https://localhost:8080/",
          "height": 1000
        },
        "id": "mKS7eTqWmLZG",
        "outputId": "ee000551-67e4-4207-d5f4-b29635f98757"
      },
      "execution_count": 48,
      "outputs": [
        {
          "output_type": "stream",
          "name": "stdout",
          "text": [
            "Training Scores\n"
          ]
        },
        {
          "output_type": "stream",
          "name": "stderr",
          "text": [
            "/usr/local/lib/python3.7/dist-packages/sklearn/metrics/_classification.py:1318: UndefinedMetricWarning: Precision and F-score are ill-defined and being set to 0.0 in labels with no predicted samples. Use `zero_division` parameter to control this behavior.\n",
            "  _warn_prf(average, modifier, msg_start, len(result))\n",
            "/usr/local/lib/python3.7/dist-packages/sklearn/metrics/_classification.py:1318: UndefinedMetricWarning: Precision and F-score are ill-defined and being set to 0.0 in labels with no predicted samples. Use `zero_division` parameter to control this behavior.\n",
            "  _warn_prf(average, modifier, msg_start, len(result))\n",
            "/usr/local/lib/python3.7/dist-packages/sklearn/metrics/_classification.py:1318: UndefinedMetricWarning: Precision and F-score are ill-defined and being set to 0.0 in labels with no predicted samples. Use `zero_division` parameter to control this behavior.\n",
            "  _warn_prf(average, modifier, msg_start, len(result))\n"
          ]
        },
        {
          "output_type": "stream",
          "name": "stdout",
          "text": [
            "              precision    recall  f1-score   support\n",
            "\n",
            "         0.0       1.00      1.00      1.00     62588\n",
            "         1.0       0.00      0.00      0.00        82\n",
            "\n",
            "    accuracy                           1.00     62670\n",
            "   macro avg       0.50      0.50      0.50     62670\n",
            "weighted avg       1.00      1.00      1.00     62670\n",
            "\n"
          ]
        },
        {
          "output_type": "display_data",
          "data": {
            "text/plain": [
              "<Figure size 432x288 with 2 Axes>"
            ],
            "image/png": "[encoded data removed]"
          },
          "metadata": {
            "needs_background": "light"
          }
        },
        {
          "output_type": "stream",
          "name": "stdout",
          "text": [
            "\n",
            "\n",
            "Testing Scores\n"
          ]
        },
        {
          "output_type": "stream",
          "name": "stderr",
          "text": [
            "/usr/local/lib/python3.7/dist-packages/sklearn/metrics/_classification.py:1318: UndefinedMetricWarning: Precision and F-score are ill-defined and being set to 0.0 in labels with no predicted samples. Use `zero_division` parameter to control this behavior.\n",
            "  _warn_prf(average, modifier, msg_start, len(result))\n",
            "/usr/local/lib/python3.7/dist-packages/sklearn/metrics/_classification.py:1318: UndefinedMetricWarning: Precision and F-score are ill-defined and being set to 0.0 in labels with no predicted samples. Use `zero_division` parameter to control this behavior.\n",
            "  _warn_prf(average, modifier, msg_start, len(result))\n",
            "/usr/local/lib/python3.7/dist-packages/sklearn/metrics/_classification.py:1318: UndefinedMetricWarning: Precision and F-score are ill-defined and being set to 0.0 in labels with no predicted samples. Use `zero_division` parameter to control this behavior.\n",
            "  _warn_prf(average, modifier, msg_start, len(result))\n"
          ]
        },
        {
          "output_type": "stream",
          "name": "stdout",
          "text": [
            "              precision    recall  f1-score   support\n",
            "\n",
            "         0.0       1.00      1.00      1.00     20860\n",
            "         1.0       0.00      0.00      0.00        30\n",
            "\n",
            "    accuracy                           1.00     20890\n",
            "   macro avg       0.50      0.50      0.50     20890\n",
            "weighted avg       1.00      1.00      1.00     20890\n",
            "\n"
          ]
        },
        {
          "output_type": "display_data",
          "data": {
            "text/plain": [
              "<Figure size 432x288 with 2 Axes>"
            ],
            "image/png": "[encoded data removed]"
          },
          "metadata": {
            "needs_background": "light"
          }
        }
      ]
    },
    {
      "cell_type": "code",
      "source": [
        ""
      ],
      "metadata": {
        "id": "4K31g7eomLWW"
      },
      "execution_count": 48,
      "outputs": []
    },
    {
      "cell_type": "markdown",
      "source": [
        "#Unsupervised Learning - Model 2 (Binary Classification)"
      ],
      "metadata": {
        "id": "FLxJzOx-raRM"
      }
    },
    {
      "cell_type": "code",
      "source": [
        "# Sequential model\n",
        "model2 = Sequential()\n",
        "\n",
        "# First hidden layer\n",
        "model2.add(Dense(10, # How many neurons you have in your first hidden layer\n",
        "                input_dim = input_shape, # What is the shape of your input features (number of columns)\n",
        "                activation = 'relu')) # What activation function are you using?\n",
        "# Second hidden layer\n",
        "model2.add(Dense(10, # How many neurons you have in your second hidden layer\n",
        "                activation = 'relu')) # What activation function are you using?\n",
        "# Output layer\n",
        "model2.add(Dense(1, activation = 'sigmoid'))\n",
        "\n",
        "# Step 2: Compile\n",
        "model2.compile(loss = 'bce', optimizer = 'adam', metrics = ['accuracy'])\n",
        "\n",
        "# Step 3: Fit our model\n",
        "history2 = model2.fit(X_train, y_train,\n",
        "                    validation_data = (X_test, y_test), \n",
        "                    epochs=10)"
      ],
      "metadata": {
        "colab": {
          "base_uri": "https://localhost:8080/"
        },
        "id": "Dp9v4VKBrbbg",
        "outputId": "78880056-45c7-4fba-d21f-e4bbec55d8f7"
      },
      "execution_count": 49,
      "outputs": [
        {
          "output_type": "stream",
          "name": "stdout",
          "text": [
            "Epoch 1/10\n",
            "1959/1959 [==============================] - 5s 2ms/step - loss: 0.0670 - accuracy: 0.9806 - val_loss: 0.0112 - val_accuracy: 0.9986\n",
            "Epoch 2/10\n",
            "1959/1959 [==============================] - 4s 2ms/step - loss: 0.0112 - accuracy: 0.9987 - val_loss: 0.0106 - val_accuracy: 0.9986\n",
            "Epoch 3/10\n",
            "1959/1959 [==============================] - 4s 2ms/step - loss: 0.0098 - accuracy: 0.9987 - val_loss: 0.0100 - val_accuracy: 0.9986\n",
            "Epoch 4/10\n",
            "1959/1959 [==============================] - 5s 2ms/step - loss: 0.0092 - accuracy: 0.9987 - val_loss: 0.0097 - val_accuracy: 0.9986\n",
            "Epoch 5/10\n",
            "1959/1959 [==============================] - 5s 2ms/step - loss: 0.0088 - accuracy: 0.9987 - val_loss: 0.0088 - val_accuracy: 0.9986\n",
            "Epoch 6/10\n",
            "1959/1959 [==============================] - 4s 2ms/step - loss: 0.0084 - accuracy: 0.9987 - val_loss: 0.0085 - val_accuracy: 0.9987\n",
            "Epoch 7/10\n",
            "1959/1959 [==============================] - 5s 2ms/step - loss: 0.0081 - accuracy: 0.9987 - val_loss: 0.0081 - val_accuracy: 0.9986\n",
            "Epoch 8/10\n",
            "1959/1959 [==============================] - 6s 3ms/step - loss: 0.0080 - accuracy: 0.9988 - val_loss: 0.0079 - val_accuracy: 0.9986\n",
            "Epoch 9/10\n",
            "1959/1959 [==============================] - 5s 2ms/step - loss: 0.0078 - accuracy: 0.9988 - val_loss: 0.0078 - val_accuracy: 0.9986\n",
            "Epoch 10/10\n",
            "1959/1959 [==============================] - 5s 2ms/step - loss: 0.0078 - accuracy: 0.9987 - val_loss: 0.0078 - val_accuracy: 0.9986\n"
          ]
        }
      ]
    },
    {
      "cell_type": "code",
      "source": [
        "# Visualize the loss\n",
        "plot_history(history2, 'accuracy')"
      ],
      "metadata": {
        "colab": {
          "base_uri": "https://localhost:8080/",
          "height": 607
        },
        "id": "0TZja5t2rjhB",
        "outputId": "e91206e5-4a4f-42b9-d808-d721bf554561"
      },
      "execution_count": 50,
      "outputs": [
        {
          "output_type": "display_data",
          "data": {
            "text/plain": [
              "<Figure size 360x720 with 2 Axes>"
            ],
            "image/png": "[encoded data removed]"
          },
          "metadata": {
            "needs_background": "light"
          }
        }
      ]
    },
    {
      "cell_type": "code",
      "source": [
        "# Make predicitons and evaluate your model\n",
        "print('Training Scores')\n",
        "\n",
        "# Define labels for the confusion matrix\n",
        "labels = ['Not Fraud', 'Fraud']\n",
        "\n",
        "# Get training predictions and round them to integers instead of floats\n",
        "train_preds2 = np.rint(model2.predict(X_train))\n",
        "\n",
        "# Classification Report\n",
        "print(classification_report(y_train, train_preds2))\n",
        "\n",
        "# Confusion Matrix\n",
        "conf_mat = confusion_matrix(y_train, train_preds2, normalize='true')\n",
        "heatmap(conf_mat, xticklabels=labels, yticklabels=labels, annot=True)\n",
        "plt.show()\n",
        "print('\\n')\n",
        "print('Testing Scores')\n",
        "\n",
        "# Get testing predictions and round them to integers\n",
        "test_preds2 = np.rint(model2.predict(X_test))\n",
        "\n",
        "# Classification report\n",
        "print(classification_report(y_test, test_preds2))\n",
        "\n",
        "# Confusion Matrix\n",
        "conf_mat = confusion_matrix(y_test, test_preds2, normalize='true')\n",
        "heatmap(conf_mat, xticklabels=labels, yticklabels=labels, annot=True)\n",
        "plt.show()"
      ],
      "metadata": {
        "colab": {
          "base_uri": "https://localhost:8080/",
          "height": 899
        },
        "id": "OKMWmcHLrjec",
        "outputId": "b30a6e02-d547-4198-c137-ef562be6ffa0"
      },
      "execution_count": 51,
      "outputs": [
        {
          "output_type": "stream",
          "name": "stdout",
          "text": [
            "Training Scores\n",
            "              precision    recall  f1-score   support\n",
            "\n",
            "         0.0       1.00      1.00      1.00     62588\n",
            "         1.0       1.00      0.05      0.09        82\n",
            "\n",
            "    accuracy                           1.00     62670\n",
            "   macro avg       1.00      0.52      0.55     62670\n",
            "weighted avg       1.00      1.00      1.00     62670\n",
            "\n"
          ]
        },
        {
          "output_type": "display_data",
          "data": {
            "text/plain": [
              "<Figure size 432x288 with 2 Axes>"
            ],
            "image/png": "[encoded data removed]"
          },
          "metadata": {
            "needs_background": "light"
          }
        },
        {
          "output_type": "stream",
          "name": "stdout",
          "text": [
            "\n",
            "\n",
            "Testing Scores\n",
            "              precision    recall  f1-score   support\n",
            "\n",
            "         0.0       1.00      1.00      1.00     20860\n",
            "         1.0       0.50      0.03      0.06        30\n",
            "\n",
            "    accuracy                           1.00     20890\n",
            "   macro avg       0.75      0.52      0.53     20890\n",
            "weighted avg       1.00      1.00      1.00     20890\n",
            "\n"
          ]
        },
        {
          "output_type": "display_data",
          "data": {
            "text/plain": [
              "<Figure size 432x288 with 2 Axes>"
            ],
            "image/png": "[encoded data removed]"
          },
          "metadata": {
            "needs_background": "light"
          }
        }
      ]
    },
    {
      "cell_type": "markdown",
      "source": [
        "#Unsupervised Learning - Model 3 (Binary Classification)"
      ],
      "metadata": {
        "id": "IC3A-ULKrwbd"
      }
    },
    {
      "cell_type": "code",
      "source": [
        "# Sequential model\n",
        "model4 = Sequential()\n",
        "\n",
        "# First hidden layer\n",
        "model4.add(Dense(10, # How many neurons you have in your first hidden layer\n",
        "                input_dim = input_shape, # What is the shape of your input features (number of columns)\n",
        "                activation = 'relu')) # What activation function are you using?\n",
        "# Second hidden layer\n",
        "model4.add(Dense(10, # How many neurons you have in your second hidden layer\n",
        "                activation = 'relu')) # What activation function are you using?\n",
        "# Third hidden layer\n",
        "model4.add(Dense(10, # How many neurons you have in your second hidden layer\n",
        "                activation = 'relu')) # What activation function are you using?\n",
        "# Output layer\n",
        "model4.add(Dense(1, activation = 'sigmoid'))\n",
        "\n",
        "# Step 2: Compile\n",
        "model4.compile(loss = 'bce', optimizer = 'adam', metrics = ['accuracy'])\n",
        "\n",
        "# Step 3: Fit our model\n",
        "history4 = model4.fit(X_train, y_train,\n",
        "                    validation_data = (X_test, y_test), \n",
        "                    epochs=10)"
      ],
      "metadata": {
        "colab": {
          "base_uri": "https://localhost:8080/"
        },
        "id": "gY3CokHHrjcK",
        "outputId": "e95dcd04-d092-4237-d45b-bb2006acb23b"
      },
      "execution_count": 52,
      "outputs": [
        {
          "output_type": "stream",
          "name": "stdout",
          "text": [
            "Epoch 1/10\n",
            "1959/1959 [==============================] - 5s 2ms/step - loss: 0.0693 - accuracy: 0.9811 - val_loss: 0.0109 - val_accuracy: 0.9986\n",
            "Epoch 2/10\n",
            "1959/1959 [==============================] - 4s 2ms/step - loss: 0.0104 - accuracy: 0.9987 - val_loss: 0.0106 - val_accuracy: 0.9986\n",
            "Epoch 3/10\n",
            "1959/1959 [==============================] - 5s 2ms/step - loss: 0.0098 - accuracy: 0.9987 - val_loss: 0.0102 - val_accuracy: 0.9986\n",
            "Epoch 4/10\n",
            "1959/1959 [==============================] - 4s 2ms/step - loss: 0.0096 - accuracy: 0.9987 - val_loss: 0.0101 - val_accuracy: 0.9986\n",
            "Epoch 5/10\n",
            "1959/1959 [==============================] - 4s 2ms/step - loss: 0.0093 - accuracy: 0.9987 - val_loss: 0.0099 - val_accuracy: 0.9986\n",
            "Epoch 6/10\n",
            "1959/1959 [==============================] - 5s 3ms/step - loss: 0.0089 - accuracy: 0.9987 - val_loss: 0.0091 - val_accuracy: 0.9986\n",
            "Epoch 7/10\n",
            "1959/1959 [==============================] - 5s 3ms/step - loss: 0.0085 - accuracy: 0.9987 - val_loss: 0.0087 - val_accuracy: 0.9986\n",
            "Epoch 8/10\n",
            "1959/1959 [==============================] - 4s 2ms/step - loss: 0.0082 - accuracy: 0.9987 - val_loss: 0.0081 - val_accuracy: 0.9986\n",
            "Epoch 9/10\n",
            "1959/1959 [==============================] - 5s 3ms/step - loss: 0.0079 - accuracy: 0.9987 - val_loss: 0.0077 - val_accuracy: 0.9986\n",
            "Epoch 10/10\n",
            "1959/1959 [==============================] - 5s 3ms/step - loss: 0.0077 - accuracy: 0.9987 - val_loss: 0.0074 - val_accuracy: 0.9986\n"
          ]
        }
      ]
    },
    {
      "cell_type": "code",
      "source": [
        "# Visualize the loss\n",
        "plot_history(history4, 'accuracy')"
      ],
      "metadata": {
        "colab": {
          "base_uri": "https://localhost:8080/",
          "height": 607
        },
        "id": "n0bWRLRirjaC",
        "outputId": "48c8bc4b-9536-46d6-9e7d-e0a842f86091"
      },
      "execution_count": 53,
      "outputs": [
        {
          "output_type": "display_data",
          "data": {
            "text/plain": [
              "<Figure size 360x720 with 2 Axes>"
            ],
            "image/png": "[encoded data removed]"
          },
          "metadata": {
            "needs_background": "light"
          }
        }
      ]
    },
    {
      "cell_type": "code",
      "source": [
        "# Make predicitons and evaluate your model\n",
        "print('Training Scores')\n",
        "\n",
        "# Define labels for the confusion matrix\n",
        "labels = ['Not Fraud', 'Fraud']\n",
        "\n",
        "# Get training predictions and round them to integers instead of floats\n",
        "train_preds4 = np.rint(model4.predict(X_train))\n",
        "\n",
        "# Classification Report\n",
        "print(classification_report(y_train, train_preds4))\n",
        "\n",
        "# Confusion Matrix\n",
        "conf_mat = confusion_matrix(y_train, train_preds4, normalize='true')\n",
        "heatmap(conf_mat, xticklabels=labels, yticklabels=labels, annot=True)\n",
        "plt.show()\n",
        "print('\\n')\n",
        "print('Testing Scores')\n",
        "\n",
        "# Get testing predictions and round them to integers\n",
        "test_preds4 = np.rint(model4.predict(X_test))\n",
        "\n",
        "# Classification report\n",
        "print(classification_report(y_test, test_preds4))\n",
        "\n",
        "# Confusion Matrix\n",
        "conf_mat = confusion_matrix(y_test, test_preds4, normalize='true')\n",
        "heatmap(conf_mat, xticklabels=labels, yticklabels=labels, annot=True)\n",
        "plt.show()"
      ],
      "metadata": {
        "colab": {
          "base_uri": "https://localhost:8080/",
          "height": 1000
        },
        "id": "49mNfAuHrjX1",
        "outputId": "59fa57d1-3584-48cb-e915-29a7ce5f9360"
      },
      "execution_count": 54,
      "outputs": [
        {
          "output_type": "stream",
          "name": "stdout",
          "text": [
            "Training Scores\n",
            "              precision    recall  f1-score   support\n",
            "\n",
            "         0.0       1.00      1.00      1.00     62588\n",
            "         1.0       1.00      0.04      0.07        82\n",
            "\n",
            "    accuracy                           1.00     62670\n",
            "   macro avg       1.00      0.52      0.53     62670\n",
            "weighted avg       1.00      1.00      1.00     62670\n",
            "\n"
          ]
        },
        {
          "output_type": "display_data",
          "data": {
            "text/plain": [
              "<Figure size 432x288 with 2 Axes>"
            ],
            "image/png": "[encoded data removed]"
          },
          "metadata": {
            "needs_background": "light"
          }
        },
        {
          "output_type": "stream",
          "name": "stdout",
          "text": [
            "\n",
            "\n",
            "Testing Scores\n"
          ]
        },
        {
          "output_type": "stream",
          "name": "stderr",
          "text": [
            "/usr/local/lib/python3.7/dist-packages/sklearn/metrics/_classification.py:1318: UndefinedMetricWarning: Precision and F-score are ill-defined and being set to 0.0 in labels with no predicted samples. Use `zero_division` parameter to control this behavior.\n",
            "  _warn_prf(average, modifier, msg_start, len(result))\n",
            "/usr/local/lib/python3.7/dist-packages/sklearn/metrics/_classification.py:1318: UndefinedMetricWarning: Precision and F-score are ill-defined and being set to 0.0 in labels with no predicted samples. Use `zero_division` parameter to control this behavior.\n",
            "  _warn_prf(average, modifier, msg_start, len(result))\n",
            "/usr/local/lib/python3.7/dist-packages/sklearn/metrics/_classification.py:1318: UndefinedMetricWarning: Precision and F-score are ill-defined and being set to 0.0 in labels with no predicted samples. Use `zero_division` parameter to control this behavior.\n",
            "  _warn_prf(average, modifier, msg_start, len(result))\n"
          ]
        },
        {
          "output_type": "stream",
          "name": "stdout",
          "text": [
            "              precision    recall  f1-score   support\n",
            "\n",
            "         0.0       1.00      1.00      1.00     20860\n",
            "         1.0       0.00      0.00      0.00        30\n",
            "\n",
            "    accuracy                           1.00     20890\n",
            "   macro avg       0.50      0.50      0.50     20890\n",
            "weighted avg       1.00      1.00      1.00     20890\n",
            "\n"
          ]
        },
        {
          "output_type": "display_data",
          "data": {
            "text/plain": [
              "<Figure size 432x288 with 2 Axes>"
            ],
            "image/png": "[encoded data removed]"
          },
          "metadata": {
            "needs_background": "light"
          }
        }
      ]
    },
    {
      "cell_type": "markdown",
      "source": [
        "#Supervised Learning"
      ],
      "metadata": {
        "id": "0ioAWkOAr--J"
      }
    },
    {
      "cell_type": "markdown",
      "source": [
        "Decision Tree Classifier"
      ],
      "metadata": {
        "id": "e4syhFWDsjw5"
      }
    },
    {
      "cell_type": "code",
      "source": [
        "from sklearn.tree import DecisionTreeClassifier\n",
        "from sklearn.ensemble import BaggingClassifier\n",
        "from sklearn.ensemble import RandomForestClassifier"
      ],
      "metadata": {
        "id": "7bFB1dhXtARf"
      },
      "execution_count": 55,
      "outputs": []
    },
    {
      "cell_type": "code",
      "source": [
        "dec_tree = DecisionTreeClassifier(random_state = 42)"
      ],
      "metadata": {
        "id": "83LrdgwesAcd"
      },
      "execution_count": 56,
      "outputs": []
    },
    {
      "cell_type": "code",
      "source": [
        "# Looking at some hyperparameters that seem tunable\n",
        "dec_tree"
      ],
      "metadata": {
        "colab": {
          "base_uri": "https://localhost:8080/"
        },
        "id": "6sbh_XXFsnDk",
        "outputId": "e136c272-8d2f-4637-c01a-82d9e0bf6aa5"
      },
      "execution_count": 57,
      "outputs": [
        {
          "output_type": "execute_result",
          "data": {
            "text/plain": [
              "DecisionTreeClassifier(random_state=42)"
            ]
          },
          "metadata": {},
          "execution_count": 57
        }
      ]
    },
    {
      "cell_type": "code",
      "source": [
        "dec_tree.fit(X_train_processed, y_train)"
      ],
      "metadata": {
        "colab": {
          "base_uri": "https://localhost:8080/"
        },
        "id": "_MPIcu9ispt7",
        "outputId": "1bfed873-81a8-4881-f0a5-c600b6432bc4"
      },
      "execution_count": 58,
      "outputs": [
        {
          "output_type": "execute_result",
          "data": {
            "text/plain": [
              "DecisionTreeClassifier(random_state=42)"
            ]
          },
          "metadata": {},
          "execution_count": 58
        }
      ]
    },
    {
      "cell_type": "code",
      "source": [
        "dec_tree.predict(X_test_processed)"
      ],
      "metadata": {
        "colab": {
          "base_uri": "https://localhost:8080/"
        },
        "id": "UnsQw6zUsprZ",
        "outputId": "b4ce055a-8193-48af-cb1b-0fa58a531fc5"
      },
      "execution_count": 59,
      "outputs": [
        {
          "output_type": "execute_result",
          "data": {
            "text/plain": [
              "array([0., 0., 0., ..., 0., 0., 0.])"
            ]
          },
          "metadata": {},
          "execution_count": 59
        }
      ]
    },
    {
      "cell_type": "code",
      "source": [
        "# calculate classification accuracy\n",
        "train_score = dec_tree.score(X_train_processed, y_train)\n",
        "test_score = dec_tree.score(X_test_processed, y_test)\n",
        "print(train_score)\n",
        "print(test_score)"
      ],
      "metadata": {
        "colab": {
          "base_uri": "https://localhost:8080/"
        },
        "id": "wJJ0VohBspe_",
        "outputId": "14946991-b2b9-463e-dd59-941d6c7c1ba2"
      },
      "execution_count": 60,
      "outputs": [
        {
          "output_type": "stream",
          "name": "stdout",
          "text": [
            "1.0\n",
            "0.9988989947343226\n"
          ]
        }
      ]
    },
    {
      "cell_type": "markdown",
      "source": [
        "Bagging Classifier"
      ],
      "metadata": {
        "id": "ThkPosABtQBZ"
      }
    },
    {
      "cell_type": "code",
      "source": [
        "bagcla = BaggingClassifier(random_state = 42)"
      ],
      "metadata": {
        "id": "Nu5sg_gBtOOv"
      },
      "execution_count": 61,
      "outputs": []
    },
    {
      "cell_type": "code",
      "source": [
        "# Look at the hyperparameters\n",
        "bagcla.get_params()"
      ],
      "metadata": {
        "colab": {
          "base_uri": "https://localhost:8080/"
        },
        "id": "FoRkfaZbtT7H",
        "outputId": "4df12f1d-c329-43a9-a384-24c68c2ce8b6"
      },
      "execution_count": 62,
      "outputs": [
        {
          "output_type": "execute_result",
          "data": {
            "text/plain": [
              "{'base_estimator': None,\n",
              " 'bootstrap': True,\n",
              " 'bootstrap_features': False,\n",
              " 'max_features': 1.0,\n",
              " 'max_samples': 1.0,\n",
              " 'n_estimators': 10,\n",
              " 'n_jobs': None,\n",
              " 'oob_score': False,\n",
              " 'random_state': 42,\n",
              " 'verbose': 0,\n",
              " 'warm_start': False}"
            ]
          },
          "metadata": {},
          "execution_count": 62
        }
      ]
    },
    {
      "cell_type": "code",
      "source": [
        "bagcla.fit(X_train_processed, y_train)"
      ],
      "metadata": {
        "colab": {
          "base_uri": "https://localhost:8080/"
        },
        "id": "DOt5MbhftVN8",
        "outputId": "be5b862b-2d26-495d-b6e2-91c8461a85ea"
      },
      "execution_count": 63,
      "outputs": [
        {
          "output_type": "execute_result",
          "data": {
            "text/plain": [
              "BaggingClassifier(random_state=42)"
            ]
          },
          "metadata": {},
          "execution_count": 63
        }
      ]
    },
    {
      "cell_type": "code",
      "source": [
        "bagcla.predict(X_test_processed)"
      ],
      "metadata": {
        "colab": {
          "base_uri": "https://localhost:8080/"
        },
        "id": "LyckihPStVK3",
        "outputId": "4a56b8a1-7d55-41dc-9d96-5e67f25b9875"
      },
      "execution_count": 64,
      "outputs": [
        {
          "output_type": "execute_result",
          "data": {
            "text/plain": [
              "array([0., 0., 0., ..., 0., 0., 0.])"
            ]
          },
          "metadata": {},
          "execution_count": 64
        }
      ]
    },
    {
      "cell_type": "code",
      "source": [
        "bagcla_train_score = bagcla.score(X_train_processed, y_train)\n",
        "bagcla_test_score = bagcla.score(X_test_processed, y_test)\n",
        "print(bagcla_train_score)\n",
        "print(bagcla_test_score)"
      ],
      "metadata": {
        "colab": {
          "base_uri": "https://localhost:8080/"
        },
        "id": "6glJArQ3tVG5",
        "outputId": "a06f62f5-75aa-42ac-c802-794170902e3e"
      },
      "execution_count": 65,
      "outputs": [
        {
          "output_type": "stream",
          "name": "stdout",
          "text": [
            "0.9998404340194671\n",
            "0.9991383437051221\n"
          ]
        }
      ]
    },
    {
      "cell_type": "markdown",
      "source": [
        "Random Forest Classifier"
      ],
      "metadata": {
        "id": "AWF3-Y39xL4Q"
      }
    },
    {
      "cell_type": "code",
      "source": [
        "rf = RandomForestClassifier(random_state = 42)"
      ],
      "metadata": {
        "id": "ZFvmFTA2xJ9y"
      },
      "execution_count": 66,
      "outputs": []
    },
    {
      "cell_type": "code",
      "source": [
        "# Looking at some hyperparameters that seem tunable\n",
        "rf.get_params()"
      ],
      "metadata": {
        "colab": {
          "base_uri": "https://localhost:8080/"
        },
        "id": "oL9msBzcxYEN",
        "outputId": "953f0a58-552d-4c5e-9883-9c8c5aa0b0c2"
      },
      "execution_count": 67,
      "outputs": [
        {
          "output_type": "execute_result",
          "data": {
            "text/plain": [
              "{'bootstrap': True,\n",
              " 'ccp_alpha': 0.0,\n",
              " 'class_weight': None,\n",
              " 'criterion': 'gini',\n",
              " 'max_depth': None,\n",
              " 'max_features': 'auto',\n",
              " 'max_leaf_nodes': None,\n",
              " 'max_samples': None,\n",
              " 'min_impurity_decrease': 0.0,\n",
              " 'min_samples_leaf': 1,\n",
              " 'min_samples_split': 2,\n",
              " 'min_weight_fraction_leaf': 0.0,\n",
              " 'n_estimators': 100,\n",
              " 'n_jobs': None,\n",
              " 'oob_score': False,\n",
              " 'random_state': 42,\n",
              " 'verbose': 0,\n",
              " 'warm_start': False}"
            ]
          },
          "metadata": {},
          "execution_count": 67
        }
      ]
    },
    {
      "cell_type": "code",
      "source": [
        "rf.fit(X_train_processed, y_train)"
      ],
      "metadata": {
        "colab": {
          "base_uri": "https://localhost:8080/"
        },
        "id": "zhF_0PLOxaCo",
        "outputId": "cf89ca22-45be-4aab-f59c-ef66984549b3"
      },
      "execution_count": 68,
      "outputs": [
        {
          "output_type": "execute_result",
          "data": {
            "text/plain": [
              "RandomForestClassifier(random_state=42)"
            ]
          },
          "metadata": {},
          "execution_count": 68
        }
      ]
    },
    {
      "cell_type": "code",
      "source": [
        "rf.predict(X_test_processed)"
      ],
      "metadata": {
        "colab": {
          "base_uri": "https://localhost:8080/"
        },
        "id": "j59hBPVIxb7P",
        "outputId": "77be56bb-2703-486b-e401-375e98ecdcd5"
      },
      "execution_count": 69,
      "outputs": [
        {
          "output_type": "execute_result",
          "data": {
            "text/plain": [
              "array([0., 0., 0., ..., 0., 0., 0.])"
            ]
          },
          "metadata": {},
          "execution_count": 69
        }
      ]
    },
    {
      "cell_type": "code",
      "source": [
        "rf_train_score = rf.score(X_train_processed, y_train)\n",
        "rf_test_score = rf.score(X_test_processed, y_test)\n",
        "print(rf_train_score)\n",
        "print(rf_test_score)"
      ],
      "metadata": {
        "colab": {
          "base_uri": "https://localhost:8080/"
        },
        "id": "AZseupEtxdqA",
        "outputId": "b19eae23-f623-4f63-d406-6a509dfee6f1"
      },
      "execution_count": 70,
      "outputs": [
        {
          "output_type": "stream",
          "name": "stdout",
          "text": [
            "1.0\n",
            "0.9993298228817616\n"
          ]
        }
      ]
    },
    {
      "cell_type": "markdown",
      "source": [
        "KNN Classifier"
      ],
      "metadata": {
        "id": "kBN_uqOZzook"
      }
    },
    {
      "cell_type": "code",
      "source": [
        "from sklearn.neighbors import KNeighborsClassifier"
      ],
      "metadata": {
        "id": "_QFCeDEEz_oC"
      },
      "execution_count": 71,
      "outputs": []
    },
    {
      "cell_type": "code",
      "source": [
        "knn = KNeighborsClassifier(n_neighbors=1)"
      ],
      "metadata": {
        "id": "2a1lGfdCzDMz"
      },
      "execution_count": 72,
      "outputs": []
    },
    {
      "cell_type": "code",
      "source": [
        "print(knn)"
      ],
      "metadata": {
        "colab": {
          "base_uri": "https://localhost:8080/"
        },
        "id": "GSfmE86vzsW0",
        "outputId": "05a78e76-5108-4c49-b5c1-a5825fd7a1e9"
      },
      "execution_count": 73,
      "outputs": [
        {
          "output_type": "stream",
          "name": "stdout",
          "text": [
            "KNeighborsClassifier(n_neighbors=1)\n"
          ]
        }
      ]
    },
    {
      "cell_type": "code",
      "source": [
        "knn.fit(X_train_processed, y_train)"
      ],
      "metadata": {
        "colab": {
          "base_uri": "https://localhost:8080/"
        },
        "id": "VGdv2c_XzsUr",
        "outputId": "6d6df3c0-04c2-4308-b62c-d3fe857068f8"
      },
      "execution_count": 74,
      "outputs": [
        {
          "output_type": "execute_result",
          "data": {
            "text/plain": [
              "KNeighborsClassifier(n_neighbors=1)"
            ]
          },
          "metadata": {},
          "execution_count": 74
        }
      ]
    },
    {
      "cell_type": "code",
      "source": [
        "predictions_knn = knn.predict(X_test_processed)"
      ],
      "metadata": {
        "id": "DcqC0uhczsSf"
      },
      "execution_count": 75,
      "outputs": []
    },
    {
      "cell_type": "code",
      "source": [
        "predictions_knn"
      ],
      "metadata": {
        "colab": {
          "base_uri": "https://localhost:8080/"
        },
        "id": "Og07qrTdzsQM",
        "outputId": "5eec4c22-5793-409a-f2ce-412fa72f3f2d"
      },
      "execution_count": 76,
      "outputs": [
        {
          "output_type": "execute_result",
          "data": {
            "text/plain": [
              "array([0., 0., 0., ..., 0., 0., 0.])"
            ]
          },
          "metadata": {},
          "execution_count": 76
        }
      ]
    },
    {
      "cell_type": "code",
      "source": [
        "# calculate classification accuracy\n",
        "knn_score = knn.score(X_test_processed, y_test)\n",
        "knn_score"
      ],
      "metadata": {
        "colab": {
          "base_uri": "https://localhost:8080/"
        },
        "id": "bz7OaokW0Fis",
        "outputId": "7629373c-eb7d-41d0-dd31-e14c5ccc37ef"
      },
      "execution_count": 77,
      "outputs": [
        {
          "output_type": "execute_result",
          "data": {
            "text/plain": [
              "0.9984202967927238"
            ]
          },
          "metadata": {},
          "execution_count": 77
        }
      ]
    }
  ]
}